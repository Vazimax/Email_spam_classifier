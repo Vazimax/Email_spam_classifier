{
 "cells": [
  {
   "cell_type": "code",
   "execution_count": 71,
   "id": "94765c7b-c03d-4842-9d89-52a919178662",
   "metadata": {},
   "outputs": [
    {
     "name": "stdout",
     "output_type": "stream",
     "text": [
      "Training accuracy: 0.9700168918918919\n",
      "Test accuracy: 0.9509569377990431\n"
     ]
    }
   ],
   "source": [
    "import numpy as np\n",
    "import pandas as pd\n",
    "from sklearn.linear_model import LogisticRegression\n",
    "from sklearn.model_selection import train_test_split\n",
    "from sklearn.feature_extraction.text import TfidfVectorizer\n",
    "from sklearn.metrics import accuracy_score\n",
    "\n",
    "# Loading the data\n",
    "data = pd.read_csv('mail_data.csv')\n",
    "\n",
    "# Convert labels to numerical values\n",
    "data['Category'] = data['Category'].map({'spam': 0, 'ham': 1})\n",
    "\n",
    "# Splitting the data into training and test sets\n",
    "X_train, X_test, Y_train, Y_test = train_test_split(data['Message'], data['Category'], random_state=2, test_size=0.15)\n",
    "\n",
    "# Feature extraction using TfidfVectorizer\n",
    "feature_extraction = TfidfVectorizer(min_df=1, stop_words='english', lowercase=True)\n",
    "\n",
    "# Fit and transform on training data\n",
    "X_train_featured = feature_extraction.fit_transform(X_train)\n",
    "\n",
    "# Transform test data (do not fit again to avoid mismatched features)\n",
    "X_test_featured = feature_extraction.transform(X_test)\n",
    "\n",
    "# Initialize and train the Logistic Regression model\n",
    "model = LogisticRegression()\n",
    "model.fit(X_train_featured, Y_train)\n",
    "\n",
    "# Evaluate on training data\n",
    "train_pred = model.predict(X_train_featured)\n",
    "train_acc = accuracy_score(Y_train, train_pred)\n",
    "print('Training accuracy:', train_acc)\n",
    "\n",
    "# Evaluate on test data\n",
    "test_pred = model.predict(X_test_featured)\n",
    "test_acc = accuracy_score(Y_test, test_pred)\n",
    "print('Test accuracy:', test_acc)\n"
   ]
  },
  {
   "cell_type": "code",
   "execution_count": null,
   "id": "3cfa328c-1dc5-4dfb-ae4d-5c35be4506bd",
   "metadata": {},
   "outputs": [],
   "source": []
  }
 ],
 "metadata": {
  "kernelspec": {
   "display_name": "Python 3 (ipykernel)",
   "language": "python",
   "name": "python3"
  },
  "language_info": {
   "codemirror_mode": {
    "name": "ipython",
    "version": 3
   },
   "file_extension": ".py",
   "mimetype": "text/x-python",
   "name": "python",
   "nbconvert_exporter": "python",
   "pygments_lexer": "ipython3",
   "version": "3.12.2"
  }
 },
 "nbformat": 4,
 "nbformat_minor": 5
}
